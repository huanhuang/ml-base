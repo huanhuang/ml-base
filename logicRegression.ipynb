{
 "cells": [
  {
   "cell_type": "markdown",
   "metadata": {},
   "source": [
    "# 逻辑回归"
   ]
  },
  {
   "cell_type": "markdown",
   "metadata": {},
   "source": [
    "场景简介：使用逻辑回归实现对鸢尾花的分类预测"
   ]
  },
  {
   "cell_type": "markdown",
   "metadata": {},
   "source": [
    "## 模型说明"
   ]
  },
  {
   "attachments": {
    "Sigmoid.png": {
     "image/png": "[encoded data removed]"
    }
   },
   "cell_type": "markdown",
   "metadata": {},
   "source": [
    "逻辑回归是一个分类模型，根据特征值来预测该样本归属哪一类。  \n",
    "逻辑回归的预测方程式(模型函数)为:\n",
    "$h(θ) = \\frac{1}{1+e^{-θ^TX}}$   \n",
    "它的函数图如下：\n",
    "![Sigmoid.png](attachment:Sigmoid.png)  \n",
    "\n",
    "0<=h(θ) <=1\n",
    "\n",
    "该函数就是逻辑回归的$模型函数$,也叫做$sigmoid函数$   \n",
    "X 为特征向量，θ的就是我们要学习的参数，shape为(n_x,1)   \n",
    "它的预测逻辑一般为：h(θ) >0.5 为正类，h(θ) <0.5 为负类。\n",
    "当然0.5 这个值也是可以调整的\n",
    "\n",
    "逻辑回归一般一次只区分两类，所以若要区分多个类(比如k个)，则需要建立k或k-1个分类器。 "
   ]
  },
  {
   "cell_type": "markdown",
   "metadata": {},
   "source": [
    "## 代价函数与梯度下降"
   ]
  },
  {
   "cell_type": "markdown",
   "metadata": {},
   "source": [
    "逻辑回归用于二分类，y的取值为:(0:负类 1:正类)  \n",
    "我们的模型函数得出的其实就是一个概率值，概率大于0.5归于正类，概率小于0.5 ，get_ipython于负类。  \n",
    "所以y的联合概率分布为：\n",
    "$L(θ) = \\prod_{i=1}^{m}{}P(y^{(i)}| x^{(i)};θ) = \\prod_{i=1}^{m}{}h_θ(x^{(i)})^{y^{(i)}}(1-h_θ(x^{(i)})^{y^{(i)}}$\n",
    "我们当然是希望L(θ)越大越好。这就是我们的目标。  \n",
    "因为在梯度下降中，我们需要目标函数是凸函数，具有一个极小值。  \n",
    "所以我们要取负，因为L(θ)是一个连乘，我们将其取对数log，将连乘转为求和，方便计算。即:  \n",
    "$J(θ) = -log(L(θ)) = -\\sum_{i=1}^{m}{}y^{(i)}log(h_θ(x^{(i)})+(1-y^{(i)})log(1-h_θ(x^{(i)})) $  \n",
    "我们的目标就变成最小化 J(θ)"
   ]
  },
  {
   "cell_type": "markdown",
   "metadata": {},
   "source": [
    "有了上述，我们就可以来实现逻辑回归了"
   ]
  },
  {
   "cell_type": "markdown",
   "metadata": {},
   "source": [
    "## 变量说明\n",
    "对所用到的变量做一个统一说明，方便检查。  \n",
    "θ·X = W·X+b\n",
    "\n",
    "设:  \n",
    "m: 样本个数  \n",
    "nx：特征维度  \n",
    "θ：($w_0,w_1,w_2 ...w_{nx})$  \n",
    "则：  \n",
    "X的shape 为:(m,nx) ,我们会在X的前面加一列全为1的，所以实际X为：(m,nx)\n",
    "y的shape为：(m,1)  \n",
    "θ 的shape = (nx+1)\n"
   ]
  },
  {
   "cell_type": "markdown",
   "metadata": {},
   "source": [
    "## 实现"
   ]
  },
  {
   "cell_type": "markdown",
   "metadata": {},
   "source": [
    "### Package"
   ]
  },
  {
   "cell_type": "code",
   "execution_count": 2,
   "metadata": {},
   "outputs": [],
   "source": [
    "import numpy as np\n",
    "from utils import calc_accuracy_class\n",
    "from utils import fl_score\n",
    "from sklearn import datasets\n",
    "import matplotlib.pyplot as plt\n",
    "from sklearn.model_selection import train_test_split\n",
    "\n",
    "import pandas as pd "
   ]
  },
  {
   "cell_type": "markdown",
   "metadata": {},
   "source": [
    "### 加载数据"
   ]
  },
  {
   "cell_type": "code",
   "execution_count": null,
   "metadata": {},
   "outputs": [],
   "source": [
    "X,y = datasets.load_iris(return_X_y=True)\n",
    "y = y.reshape(-1,1)"
   ]
  },
  {
   "cell_type": "code",
   "execution_count": null,
   "metadata": {},
   "outputs": [],
   "source": [
    "#将数据分为训练集和测试集\n",
    "train_X,test_X,train_y,test_y = train_test_split(X,y,test_size = 0.20,random_state = 1)\n",
    "print(f\"train_X的大小为：{train_X.shape}\")\n",
    "print(f\"tain_y的大小为：{train_y.shape}\")\n",
    "print(f\"test_X的大小为：{test_X.shape}\")\n",
    "print(f\"test_y的大小为：{test_y.shape}\")"
   ]
  },
  {
   "cell_type": "code",
   "execution_count": null,
   "metadata": {},
   "outputs": [],
   "source": [
    "#标准化\n",
    "def nomalize(X,axis):\n",
    "    mean = np.mean(X,axis)\n",
    "    std = np.std(X,axis)\n",
    "    return (X-mean)/std, mean,std"
   ]
  },
  {
   "cell_type": "code",
   "execution_count": null,
   "metadata": {},
   "outputs": [],
   "source": [
    "#将数据标准化\n",
    "train_X,mean,std = nomalize(train_X,axis=0)\n",
    "test_X = (test_X-mean)/std\n",
    "\n",
    "#插入一列全为1的表示x0\n",
    "train_X = np.insert(train_X,0,1,axis=1)\n",
    "test_X = np.insert(test_X,0,1,axis=1)\n",
    "print(train_X.shape)\n",
    "print(test_X.shape)"
   ]
  },
  {
   "cell_type": "markdown",
   "metadata": {},
   "source": [
    "### 初始化参数"
   ]
  },
  {
   "cell_type": "code",
   "execution_count": null,
   "metadata": {},
   "outputs": [],
   "source": [
    "def init_parameters(n):\n",
    "    theta = np.random.randn(n,1)\n",
    "    return theta"
   ]
  },
  {
   "cell_type": "markdown",
   "metadata": {},
   "source": [
    "### Sigmoid函数"
   ]
  },
  {
   "cell_type": "code",
   "execution_count": null,
   "metadata": {},
   "outputs": [],
   "source": [
    "def sigmoid(z):\n",
    "    return 1/(1+np.exp(-z))"
   ]
  },
  {
   "cell_type": "markdown",
   "metadata": {},
   "source": [
    "### 代价函数\n",
    "costs = $-\\frac{1}{m}\\sum_{i=1}^{m}{}y^{(i)}log(y'^{(i)})+(1-y^{(i)})log(1-y'^{(i)})$"
   ]
  },
  {
   "cell_type": "code",
   "execution_count": null,
   "metadata": {},
   "outputs": [],
   "source": [
    "def compute_cost(y_hat,y):\n",
    "    '''\n",
    "    y_hat --当前阶段的预测值\n",
    "    y -- 真实值\n",
    "    '''\n",
    "    m = y.shape[0]\n",
    "    cost = -np.sum(y*np.log(y_hat)+(1-y)*(np.log(1-y_hat)))/m\n",
    "    return cost\n",
    "    "
   ]
  },
  {
   "cell_type": "markdown",
   "metadata": {},
   "source": [
    "### 梯度下降"
   ]
  },
  {
   "cell_type": "markdown",
   "metadata": {},
   "source": [
    "costs = $-\\frac{1}{m}\\sum_{i=1}^{m}{}y^{(i)}log(y'^{(i)})+(1-y^{(i)})log(1-y'^{(i)})$  \n",
    "$y' = h_θ(x^{(i)}) = \\frac{1}{1+e^{-θ^TX}}$  \n",
    "设z=θ·x\n",
    "可解得:  \n",
    "dz = (y'-y)  \n",
    "所以:  \n",
    "dθ = x.T·(y'-y)"
   ]
  },
  {
   "cell_type": "code",
   "execution_count": null,
   "metadata": {},
   "outputs": [],
   "source": [
    "def gradient_descent(X,y_hat,y,theta,lr):\n",
    "    '''\n",
    "    y_hat --当前阶段的预测值\n",
    "    y -- 真实值\n",
    "    lr -- 学习速率\n",
    "    '''\n",
    "    d_theta = np.dot(X.T,y_hat-y)\n",
    "    theta = theta - lr*d_theta\n",
    "    return theta"
   ]
  },
  {
   "cell_type": "markdown",
   "metadata": {},
   "source": [
    "### 基本逻辑单元"
   ]
  },
  {
   "cell_type": "markdown",
   "metadata": {},
   "source": [
    "基本逻辑单元，处理二分类。多分类不过由多个基本逻辑单元构成"
   ]
  },
  {
   "cell_type": "code",
   "execution_count": null,
   "metadata": {},
   "outputs": [],
   "source": [
    "class BasicLogicUnit:\n",
    "    def __init__(self,X,y,category):\n",
    "        '''\n",
    "        X -- 训练样本,shape:(m,nx)\n",
    "        y -- 0 or 1 shape:(m,1)\n",
    "        category -- 真正的类别，即y为1时，所代表的类别\n",
    "        '''\n",
    "        self.X = X\n",
    "        self.y = y\n",
    "        self.category = category\n",
    "        self.theta = init_parameters(self.X.shape[1])\n",
    "        \n",
    "        \n",
    "    def fit(self,lr,steps):\n",
    "        '''\n",
    "        训练\n",
    "        '''\n",
    "        m,n_x = self.X.shape\n",
    "        costs = []\n",
    "        for step in range(steps):\n",
    "            z = np.dot(self.X,self.theta)\n",
    "            y_ = sigmoid(z)\n",
    "            loss = compute_cost(y_,self.y)\n",
    "            costs.append(loss)\n",
    "            \n",
    "            self.theta = gradient_descent(self.X,y_,self.y,self.theta,lr)\n",
    "            \n",
    "            if step % 50 == 0:\n",
    "                print(f\"\\nAfter {step} step(s),cost is :{loss}\")\n",
    "        \n",
    "        return costs\n",
    "    def predict(self,X):\n",
    "        '''\n",
    "        预测\n",
    "        '''\n",
    "        z = np.dot(X,self.theta)\n",
    "        return sigmoid(z)\n",
    "        \n",
    "        "
   ]
  },
  {
   "cell_type": "markdown",
   "metadata": {},
   "source": [
    "### 逻辑回归模型"
   ]
  },
  {
   "cell_type": "markdown",
   "metadata": {},
   "source": [
    "根据训练数据，整合多个逻辑单元进行预测"
   ]
  },
  {
   "cell_type": "code",
   "execution_count": null,
   "metadata": {},
   "outputs": [],
   "source": [
    "class LogicRegressionModel:\n",
    "    def __init__(self):\n",
    "        self.logic_unit_list = []\n",
    "    \n",
    "    def fit(self,tain_X,train_y,learning_rate =0.05,steps = 500):\n",
    "        classes = set(np.squeeze(train_y))\n",
    "        n_classes = len(classes)\n",
    "        m,n_x = train_X.shape\n",
    "        #根据分类的类别，一个个使用逻辑单元进行分类训练\n",
    "        for c in classes:\n",
    "            unit_train_y = np.where(train_y == c,1,0)\n",
    "            logic_unit = BasicLogicUnit(train_X,unit_train_y,c)\n",
    "            self.logic_unit_list.append(logic_unit)\n",
    "            \n",
    "            costs = logic_unit.fit(learning_rate,steps)\n",
    "            #绘制损失曲线\n",
    "            plt.xlim(0,steps)\n",
    "            plt.plot(costs)\n",
    "            plt.xlabel(\"steps\")\n",
    "            plt.ylabel(\"costs\")\n",
    "            #plt.title(f\"c = {self.category}\")\n",
    "            \n",
    "            y_pred = logic_unit.predict(train_X)\n",
    "            y_pred = np.where(y_pred > 0.5,1,0)\n",
    "            acc = calc_accuracy_class(y_pred,unit_train_y)\n",
    "            print(f\"{c}类的准确率为:{acc}\")\n",
    "            \n",
    "    \n",
    "    def predict(self,X):\n",
    "        m = X.shape[0]\n",
    "        #为了可视化，我们将其以DataFrame的形式输出\n",
    "        zeros=  np.zeros((m,1),dtype=int)\n",
    "        results_pd = pd.DataFrame(zeros,columns=[\"result\"])\n",
    "        for logic_unit in self.logic_unit_list:\n",
    "            prob_y = logic_unit.predict(X)\n",
    "            results_pd[logic_unit.category] = prob_y\n",
    "        max_indexs = np.argmax(np.array(results_pd),axis=1)\n",
    "        y_ = np.array(results_pd.columns)[max_indexs]\n",
    "        y_ = y_.T\n",
    "        results_pd[\"result\"] = y_\n",
    "\n",
    "        print(results_pd.head())\n",
    "        return y_\n",
    "    "
   ]
  },
  {
   "cell_type": "code",
   "execution_count": null,
   "metadata": {},
   "outputs": [],
   "source": [
    "model = LogicRegressionModel()\n",
    "model.fit(train_X,train_y,learning_rate=0.05,steps=40)"
   ]
  },
  {
   "cell_type": "code",
   "execution_count": null,
   "metadata": {},
   "outputs": [],
   "source": [
    "logits = model.predict(train_X)\n",
    "fl_score(np.squeeze(logits),np.squeeze(train_y))\n",
    "acc = calc_accuracy_class(logits,train_y)\n",
    "print(\"准确率为：%g\"%(acc))"
   ]
  },
  {
   "cell_type": "code",
   "execution_count": null,
   "metadata": {},
   "outputs": [],
   "source": [
    "from utils import calc_accuracy_class\n",
    "logits = model.predict(test_X)\n",
    "fl_score(np.squeeze(logits),np.squeeze(test_y))\n",
    "acc = calc_accuracy_class(logits,test_y)\n",
    "print(\"准确率为：%g\"%(acc))\n"
   ]
  },
  {
   "cell_type": "code",
   "execution_count": null,
   "metadata": {},
   "outputs": [],
   "source": []
  }
 ],
 "metadata": {
  "kernelspec": {
   "display_name": "Python 3",
   "language": "python",
   "name": "python3"
  },
  "language_info": {
   "codemirror_mode": {
    "name": "ipython",
    "version": 3
   },
   "file_extension": ".py",
   "mimetype": "text/x-python",
   "name": "python",
   "nbconvert_exporter": "python",
   "pygments_lexer": "ipython3",
   "version": "3.7.1"
  },
  "toc": {
   "base_numbering": 1,
   "nav_menu": {},
   "number_sections": true,
   "sideBar": true,
   "skip_h1_title": false,
   "title_cell": "Table of Contents",
   "title_sidebar": "Contents",
   "toc_cell": false,
   "toc_position": {},
   "toc_section_display": true,
   "toc_window_display": false
  },
  "varInspector": {
   "cols": {
    "lenName": 16,
    "lenType": 16,
    "lenVar": 40
   },
   "kernels_config": {
    "python": {
     "delete_cmd_postfix": "",
     "delete_cmd_prefix": "del ",
     "library": "var_list.py",
     "varRefreshCmd": "print(var_dic_list())"
    },
    "r": {
     "delete_cmd_postfix": ") ",
     "delete_cmd_prefix": "rm(",
     "library": "var_list.r",
     "varRefreshCmd": "cat(var_dic_list()) "
    }
   },
   "types_to_exclude": [
    "module",
    "function",
    "builtin_function_or_method",
    "instance",
    "_Feature"
   ],
   "window_display": false
  }
 },
 "nbformat": 4,
 "nbformat_minor": 2
}
